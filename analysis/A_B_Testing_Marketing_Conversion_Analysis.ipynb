{
 "cells": [
  {
   "cell_type": "markdown",
   "id": "50a4913a-b73e-43b8-a322-e6b5536bdf25",
   "metadata": {},
   "source": [
    "# Data Cleaning and Preparation"
   ]
  },
  {
   "cell_type": "code",
   "execution_count": 6,
   "id": "597d8eb7-5190-4685-9ca4-b646001f7e4c",
   "metadata": {},
   "outputs": [
    {
     "name": "stdout",
     "output_type": "stream",
     "text": [
      "<class 'pandas.core.frame.DataFrame'>\n",
      "RangeIndex: 588101 entries, 0 to 588100\n",
      "Data columns (total 7 columns):\n",
      " #   Column         Non-Null Count   Dtype \n",
      "---  ------         --------------   ----- \n",
      " 0   Unnamed: 0     588101 non-null  int64 \n",
      " 1   user id        588101 non-null  int64 \n",
      " 2   test group     588101 non-null  object\n",
      " 3   converted      588101 non-null  bool  \n",
      " 4   total ads      588101 non-null  int64 \n",
      " 5   most ads day   588101 non-null  object\n",
      " 6   most ads hour  588101 non-null  int64 \n",
      "dtypes: bool(1), int64(4), object(2)\n",
      "memory usage: 27.5+ MB\n"
     ]
    }
   ],
   "source": [
    "import pandas as pd\n",
    "\n",
    "# Replace with your actual path\n",
    "df = pd.read_csv('marketing_AB.csv')\n",
    "\n",
    "# Quick look\n",
    "df.head()\n",
    "df.info()"
   ]
  },
  {
   "cell_type": "code",
   "execution_count": 4,
   "id": "77dc5862-c2a0-4420-8f01-6a0e5a4d166d",
   "metadata": {},
   "outputs": [
    {
     "data": {
      "text/plain": [
       "Unnamed: 0       0\n",
       "user id          0\n",
       "test group       0\n",
       "converted        0\n",
       "total ads        0\n",
       "most ads day     0\n",
       "most ads hour    0\n",
       "dtype: int64"
      ]
     },
     "execution_count": 4,
     "metadata": {},
     "output_type": "execute_result"
    }
   ],
   "source": [
    "df.isnull().sum()"
   ]
  },
  {
   "cell_type": "code",
   "execution_count": 8,
   "id": "c0e5da96-7cf4-4eab-8347-39e0f5d6fb77",
   "metadata": {},
   "outputs": [
    {
     "data": {
      "text/plain": [
       "0"
      ]
     },
     "execution_count": 8,
     "metadata": {},
     "output_type": "execute_result"
    }
   ],
   "source": [
    "df.duplicated().sum()"
   ]
  },
  {
   "cell_type": "code",
   "execution_count": 18,
   "id": "4393dd5d-7954-47f7-9877-86c2f8bf803d",
   "metadata": {},
   "outputs": [],
   "source": [
    "# Drop unnamed index column\n",
    "df.drop(columns=['Unnamed: 0'], inplace=True)"
   ]
  },
  {
   "cell_type": "code",
   "execution_count": 20,
   "id": "c7dcd252-b280-46d7-9c65-0119dc331032",
   "metadata": {},
   "outputs": [],
   "source": [
    "# Rename columns for easier use\n",
    "df.rename(columns={\n",
    "    'user id': 'user_id',\n",
    "    'test group': 'group',\n",
    "    'converted': 'converted',\n",
    "    'total ads': 'total_ads',\n",
    "    'most ads day': 'most_ads_day',\n",
    "    'most ads hour': 'most_ads_hour'\n",
    "}, inplace=True)"
   ]
  },
  {
   "cell_type": "code",
   "execution_count": 22,
   "id": "d6be0b5a-308f-462a-aeec-ceb2a070d28a",
   "metadata": {},
   "outputs": [],
   "source": [
    "# Drop duplicate user_ids, keeping the first\n",
    "df.drop_duplicates(subset='user_id', keep='first', inplace=True)"
   ]
  },
  {
   "cell_type": "code",
   "execution_count": 24,
   "id": "de71c205-3491-4797-bc41-9f48c254e802",
   "metadata": {},
   "outputs": [
    {
     "name": "stdout",
     "output_type": "stream",
     "text": [
      "Users in both groups: 0\n"
     ]
    }
   ],
   "source": [
    "# Sanity check: any user in multiple groups?\n",
    "group_check = df.groupby('user_id')['group'].nunique()\n",
    "overlap = group_check[group_check > 1]\n",
    "print(f\"Users in both groups: {len(overlap)}\")  # Expect 0"
   ]
  },
  {
   "cell_type": "code",
   "execution_count": 26,
   "id": "b8a09375-11f4-4e50-88bb-afcbc58fef14",
   "metadata": {},
   "outputs": [],
   "source": [
    "# Check missing values\n",
    "missing_values = df.isnull().sum()"
   ]
  },
  {
   "cell_type": "code",
   "execution_count": 28,
   "id": "ba136a71-7a12-46de-9e65-7716254ed7e4",
   "metadata": {},
   "outputs": [
    {
     "data": {
      "text/plain": [
       "{'rows_after_cleaning': 588101,\n",
       " 'columns': ['user_id',\n",
       "  'group',\n",
       "  'converted',\n",
       "  'total_ads',\n",
       "  'most_ads_day',\n",
       "  'most_ads_hour'],\n",
       " 'missing_values': {}}"
      ]
     },
     "execution_count": 28,
     "metadata": {},
     "output_type": "execute_result"
    }
   ],
   "source": [
    "# Summary of cleaned data\n",
    "summary = {\n",
    "    'rows_after_cleaning': len(df),\n",
    "    'columns': df.columns.tolist(),\n",
    "    'missing_values': missing_values[missing_values > 0].to_dict()\n",
    "}\n",
    "\n",
    "summary"
   ]
  },
  {
   "cell_type": "code",
   "execution_count": 171,
   "id": "ab653db0-a2f8-4224-80b0-dc77eb0cf57d",
   "metadata": {},
   "outputs": [],
   "source": [
    "df.to_excel(\"cleaned_marketing_data.xlsx\", index=False)"
   ]
  },
  {
   "cell_type": "markdown",
   "id": "d5295ef0-dbdd-468f-b84b-63128d3cf30f",
   "metadata": {},
   "source": [
    "# Basic Exploratory Data Analysis (EDA)"
   ]
  },
  {
   "cell_type": "code",
   "execution_count": 37,
   "id": "55213de7-a6ed-4b0b-9708-41b1909e5555",
   "metadata": {},
   "outputs": [],
   "source": [
    "# Calculate conversion rates\n",
    "conversion_rates = df.groupby('group')['converted'].mean().reset_index()"
   ]
  },
  {
   "cell_type": "code",
   "execution_count": 39,
   "id": "4d58663f-5788-4c91-adfa-b668d5691e79",
   "metadata": {},
   "outputs": [],
   "source": [
    "# Count of users in each group\n",
    "group_counts = df['group'].value_counts()"
   ]
  },
  {
   "cell_type": "code",
   "execution_count": 33,
   "id": "fbc8ac15-6113-425d-9160-90fdab53b65f",
   "metadata": {},
   "outputs": [],
   "source": [
    "# Import visualization libraries\n",
    "import matplotlib.pyplot as plt\n",
    "import seaborn as sns"
   ]
  },
  {
   "cell_type": "code",
   "execution_count": 35,
   "id": "c15b65ec-b3a4-463d-bf33-1baad795764d",
   "metadata": {},
   "outputs": [],
   "source": [
    "# Set seaborn style\n",
    "sns.set(style=\"whitegrid\")"
   ]
  },
  {
   "cell_type": "code",
   "execution_count": 43,
   "id": "50e941bd-2e94-4fb8-badf-34afb1889942",
   "metadata": {},
   "outputs": [
    {
     "data": {
      "image/png": "[encoded data removed]",
      "text/plain": [
       "<Figure size 600x400 with 1 Axes>"
      ]
     },
     "metadata": {},
     "output_type": "display_data"
    }
   ],
   "source": [
    "# Plot conversion rate by group\n",
    "plt.figure(figsize=(6, 4))\n",
    "sns.barplot(data=conversion_rates, x='group', y='converted')\n",
    "plt.title('Conversion Rate by Test Group')\n",
    "plt.ylabel('Conversion Rate')\n",
    "plt.xlabel('Group')\n",
    "plt.tight_layout()\n",
    "plt.show()"
   ]
  },
  {
   "cell_type": "code",
   "execution_count": 45,
   "id": "508be792-fdfc-4c0b-a75d-09bded343082",
   "metadata": {},
   "outputs": [
    {
     "data": {
      "image/png": "[encoded data removed]",
      "text/plain": [
       "<Figure size 600x400 with 1 Axes>"
      ]
     },
     "metadata": {},
     "output_type": "display_data"
    }
   ],
   "source": [
    "# Plot user count by group\n",
    "plt.figure(figsize=(6, 4))\n",
    "sns.countplot(data=df, x='group')\n",
    "plt.title('Number of Users per Group')\n",
    "plt.xlabel('Group')\n",
    "plt.ylabel('User Count')\n",
    "plt.tight_layout()\n",
    "plt.show()"
   ]
  },
  {
   "cell_type": "code",
   "execution_count": 47,
   "id": "716c5e95-ea2a-427d-8b4a-aabb00bd6f83",
   "metadata": {},
   "outputs": [
    {
     "data": {
      "text/plain": [
       "{'ad_group_conversion_rate': 0.025546559636683747,\n",
       " 'holdout_group_conversion_rate': nan,\n",
       " 'overall_conversion_rate': 0.02523886203220195,\n",
       " 'group_counts': {'ad': 564577, 'psa': 23524}}"
      ]
     },
     "execution_count": 47,
     "metadata": {},
     "output_type": "execute_result"
    }
   ],
   "source": [
    "# Calculate and return conversion metrics\n",
    "conversion_stats = {\n",
    "    'ad_group_conversion_rate': df[df['group'] == 'ad']['converted'].mean(),\n",
    "    'holdout_group_conversion_rate': df[df['group'] == 'holdout']['converted'].mean(),\n",
    "    'overall_conversion_rate': df['converted'].mean(),\n",
    "    'group_counts': df['group'].value_counts().to_dict()\n",
    "}\n",
    "\n",
    "conversion_stats"
   ]
  },
  {
   "cell_type": "markdown",
   "id": "bd8873ec-6afb-488e-8574-31c846b56c2f",
   "metadata": {},
   "source": [
    "# Statistical Significance Testing using SciPy"
   ]
  },
  {
   "cell_type": "code",
   "execution_count": 50,
   "id": "424a4fa9-42d3-410b-b9da-0c3d4120602e",
   "metadata": {},
   "outputs": [
    {
     "name": "stdout",
     "output_type": "stream",
     "text": [
      "Requirement already satisfied: statsmodels in c:\\users\\helal\\anaconda3\\lib\\site-packages (0.14.2)\n",
      "Requirement already satisfied: openpyxl in c:\\users\\helal\\anaconda3\\lib\\site-packages (3.1.2)\n",
      "Requirement already satisfied: numpy>=1.22.3 in c:\\users\\helal\\anaconda3\\lib\\site-packages (from statsmodels) (1.26.4)\n",
      "Requirement already satisfied: scipy!=1.9.2,>=1.8 in c:\\users\\helal\\anaconda3\\lib\\site-packages (from statsmodels) (1.13.1)\n",
      "Requirement already satisfied: pandas!=2.1.0,>=1.4 in c:\\users\\helal\\anaconda3\\lib\\site-packages (from statsmodels) (2.2.2)\n",
      "Requirement already satisfied: patsy>=0.5.6 in c:\\users\\helal\\anaconda3\\lib\\site-packages (from statsmodels) (0.5.6)\n",
      "Requirement already satisfied: packaging>=21.3 in c:\\users\\helal\\anaconda3\\lib\\site-packages (from statsmodels) (23.2)\n",
      "Requirement already satisfied: et-xmlfile in c:\\users\\helal\\anaconda3\\lib\\site-packages (from openpyxl) (1.1.0)\n",
      "Requirement already satisfied: python-dateutil>=2.8.2 in c:\\users\\helal\\anaconda3\\lib\\site-packages (from pandas!=2.1.0,>=1.4->statsmodels) (2.9.0.post0)\n",
      "Requirement already satisfied: pytz>=2020.1 in c:\\users\\helal\\anaconda3\\lib\\site-packages (from pandas!=2.1.0,>=1.4->statsmodels) (2024.1)\n",
      "Requirement already satisfied: tzdata>=2022.7 in c:\\users\\helal\\anaconda3\\lib\\site-packages (from pandas!=2.1.0,>=1.4->statsmodels) (2023.3)\n",
      "Requirement already satisfied: six in c:\\users\\helal\\anaconda3\\lib\\site-packages (from patsy>=0.5.6->statsmodels) (1.16.0)\n"
     ]
    }
   ],
   "source": [
    "!pip install statsmodels openpyxl"
   ]
  },
  {
   "cell_type": "code",
   "execution_count": 62,
   "id": "38f9400a-5e56-4758-9620-7368fd8ee29e",
   "metadata": {},
   "outputs": [],
   "source": [
    "from statsmodels.stats.proportion import proportions_ztest"
   ]
  },
  {
   "cell_type": "code",
   "execution_count": 64,
   "id": "cd5fcc5f-48c7-4ea2-8356-39eaa87cab36",
   "metadata": {},
   "outputs": [
    {
     "name": "stdout",
     "output_type": "stream",
     "text": [
      "Conversion Rate (ad group): 2.55%\n",
      "Conversion Rate (holdout group): nan%\n",
      "Overall Conversion Rate: 2.52%\n"
     ]
    }
   ],
   "source": [
    "# Print numeric stats\n",
    "print(\"Conversion Rate (ad group): {:.2f}%\".format(df[df['group'] == 'ad']['converted'].mean() * 100))\n",
    "print(\"Conversion Rate (holdout group): {:.2f}%\".format(df[df['group'] == 'holdout']['converted'].mean() * 100))\n",
    "print(\"Overall Conversion Rate: {:.2f}%\".format(df['converted'].mean() * 100))"
   ]
  },
  {
   "cell_type": "code",
   "execution_count": 70,
   "id": "ea32bc76-6419-4f29-8308-e96bbe28558c",
   "metadata": {},
   "outputs": [
    {
     "name": "stdout",
     "output_type": "stream",
     "text": [
      "{'ad_group_conversion_rate': 0.025546559636683747, 'holdout_group_conversion_rate': nan, 'overall_conversion_rate': 0.02523886203220195, 'group_counts': {'ad': 564577, 'psa': 23524}}\n"
     ]
    }
   ],
   "source": [
    "# Conversion statistics\n",
    "conversion_stats = {\n",
    "    'ad_group_conversion_rate': df[df['group'] == 'ad']['converted'].mean(),\n",
    "    'holdout_group_conversion_rate': df[df['group'] == 'holdout']['converted'].mean(),\n",
    "    'overall_conversion_rate': df['converted'].mean(),\n",
    "    'group_counts': df['group'].value_counts().to_dict()\n",
    "}\n",
    "print(conversion_stats)"
   ]
  },
  {
   "cell_type": "code",
   "execution_count": 78,
   "id": "3318371b-00a2-46ef-aa65-4fbad43daab8",
   "metadata": {},
   "outputs": [
    {
     "name": "stdout",
     "output_type": "stream",
     "text": [
      "Group Counts:\n",
      " group\n",
      "ad     564577\n",
      "psa     23524\n",
      "Name: count, dtype: int64\n",
      "\n",
      "Converted Sums:\n",
      " group\n",
      "ad     14423\n",
      "psa      420\n",
      "Name: converted, dtype: int64\n",
      "\n",
      "Missing Values:\n",
      " user_id          0\n",
      "group            0\n",
      "converted        0\n",
      "total_ads        0\n",
      "most_ads_day     0\n",
      "most_ads_hour    0\n",
      "dtype: int64\n"
     ]
    }
   ],
   "source": [
    "# Check counts per group\n",
    "print(\"Group Counts:\\n\", df['group'].value_counts())\n",
    "\n",
    "# Check conversion counts per group\n",
    "print(\"\\nConverted Sums:\\n\", df.groupby('group')['converted'].sum())\n",
    "\n",
    "# Check for missing values\n",
    "print(\"\\nMissing Values:\\n\", df.isnull().sum())"
   ]
  },
  {
   "cell_type": "code",
   "execution_count": 76,
   "id": "1cbcd1da-be5c-4bf9-af9a-3554aa3a482e",
   "metadata": {},
   "outputs": [],
   "source": [
    "# Drop or fill missing values\n",
    "df = df.dropna(subset=['converted'])  # safer in this context"
   ]
  },
  {
   "cell_type": "code",
   "execution_count": 80,
   "id": "e44861df-34be-4e69-ae9c-c424b3c6061d",
   "metadata": {},
   "outputs": [
    {
     "name": "stdout",
     "output_type": "stream",
     "text": [
      "['ad' 'psa']\n"
     ]
    }
   ],
   "source": [
    "print(df['group'].unique())"
   ]
  },
  {
   "cell_type": "code",
   "execution_count": 82,
   "id": "e5ad2e6a-f626-425b-bcec-63853701785c",
   "metadata": {},
   "outputs": [],
   "source": [
    "df['group'] = df['group'].replace({'psa': 'holdout'})"
   ]
  },
  {
   "cell_type": "code",
   "execution_count": 84,
   "id": "ca8218e5-1796-4178-bb49-72564c07c1a1",
   "metadata": {},
   "outputs": [
    {
     "name": "stdout",
     "output_type": "stream",
     "text": [
      "Z-statistic: 7.3701, p-value: 0.0000\n"
     ]
    }
   ],
   "source": [
    "# Statistical Significance Test (Z-test)\n",
    "success = [\n",
    "    df[df['group'] == 'ad']['converted'].sum(),\n",
    "    df[df['group'] == 'holdout']['converted'].sum()\n",
    "]\n",
    "nobs = [\n",
    "    df[df['group'] == 'ad'].shape[0],\n",
    "    df[df['group'] == 'holdout'].shape[0]\n",
    "]\n",
    "\n",
    "z_stat, p_val = proportions_ztest(count=success, nobs=nobs, alternative='larger')\n",
    "print(f\"Z-statistic: {z_stat:.4f}, p-value: {p_val:.4f}\")"
   ]
  },
  {
   "cell_type": "markdown",
   "id": "6694fd23-f1ec-499b-bc54-1ab76daae8e6",
   "metadata": {},
   "source": [
    "# Interpretation\n",
    "## Key Results:\n",
    "- **Z-statistic**: 7.37 → indicates a large difference between groups.\n",
    "- **P-value**: 0.0000 → well below the 0.05 threshold.\n",
    "### *Conclusion*: The ad group outperforms the holdout group significantly."
   ]
  },
  {
   "cell_type": "markdown",
   "id": "594df4b5-3c82-4f46-8931-d44685c3f1ee",
   "metadata": {},
   "source": [
    "## Business Recommendation:\n",
    "The A/B test results show that the marketing ad campaign significantly increases user conversion compared to not showing ads. You should consider **rolling out the campaign to a broader audience** or **investing more in similar creative strategies**."
   ]
  },
  {
   "cell_type": "code",
   "execution_count": 173,
   "id": "15083c10-33b8-4d8b-9afe-5ca65c6ce0ae",
   "metadata": {},
   "outputs": [
    {
     "name": "stdout",
     "output_type": "stream",
     "text": [
      "Chi²: 1.7802, p-value: 0.1821\n"
     ]
    }
   ],
   "source": [
    "from scipy.stats import chi2_contingency\n",
    "import pandas as pd\n",
    "\n",
    "# Contingency table (example data)\n",
    "data = [[40, 60],   # ad group: 40 converted, 60 not\n",
    "        [30, 70]]   # control group: 30 converted, 70 not\n",
    "\n",
    "chi2, p, dof, expected = chi2_contingency(data)\n",
    "\n",
    "print(f\"Chi²: {chi2:.4f}, p-value: {p:.4f}\")"
   ]
  }
 ],
 "metadata": {
  "kernelspec": {
   "display_name": "Python 3 (ipykernel)",
   "language": "python",
   "name": "python3"
  },
  "language_info": {
   "codemirror_mode": {
    "name": "ipython",
    "version": 3
   },
   "file_extension": ".py",
   "mimetype": "text/x-python",
   "name": "python",
   "nbconvert_exporter": "python",
   "pygments_lexer": "ipython3",
   "version": "3.12.4"
  }
 },
 "nbformat": 4,
 "nbformat_minor": 5
}
